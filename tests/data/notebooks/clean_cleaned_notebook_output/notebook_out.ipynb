{
 "cells": [
  {
   "cell_type": "markdown",
   "id": "4edeb6ca",
   "metadata": {},
   "source": [
    "# Test clean notebook output"
   ]
  },
  {
   "cell_type": "code",
   "execution_count": 0,
   "id": "4a4d2ca0",
   "metadata": {},
   "outputs": [],
   "source": [
    "1+1"
   ]
  }
 ],
 "metadata": {
  "kernelspec": {
   "display_name": "Python 3",
   "language": "python",
   "name": "python3"
  }
 },
 "nbformat": 4,
 "nbformat_minor": 5
}
