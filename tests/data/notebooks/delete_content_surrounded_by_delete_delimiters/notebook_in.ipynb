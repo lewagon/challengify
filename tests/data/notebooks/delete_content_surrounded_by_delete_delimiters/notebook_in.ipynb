{
 "cells": [
  {
   "cell_type": "markdown",
   "id": "3ab481f0",
   "metadata": {},
   "source": [
    "# Challenge sample"
   ]
  },
  {
   "cell_type": "markdown",
   "id": "79e820b4",
   "metadata": {},
   "source": [
    "## How is markdown affected by delimiters ?"
   ]
  },
  {
   "cell_type": "markdown",
   "id": "c4b4ef4e",
   "metadata": {},
   "source": [
    "this is unaffected\n",
    "\n",
    "$DELETE_BEGIN\n",
    "\n",
    "👉 this markdown content will be deleted\n",
    "\n",
    "$DELETE_END\n",
    "\n",
    "this is unaffected"
   ]
  },
  {
   "cell_type": "markdown",
   "id": "efa82f6f",
   "metadata": {},
   "source": [
    "## How is code affected by delimiters ?"
   ]
  },
  {
   "cell_type": "code",
   "execution_count": 0,
   "id": "eb9ce69a",
   "metadata": {},
   "outputs": [],
   "source": [
    "# $DELETE_BEGIN\n",
    "this_code_will_be_deleted = True\n",
    "# $DELETE_END\n",
    "\n",
    "this_code_will_be_unaffected = True"
   ]
  },
  {
   "cell_type": "code",
   "execution_count": 0,
   "id": "c170710d",
   "metadata": {},
   "outputs": [],
   "source": [
    "import pandas as pd\n",
    "\n",
    "# $DELETE_BEGIN\n",
    "pi = 3.14\n",
    "# $DELETE_END"
   ]
  }
 ],
 "metadata": {
  "kernelspec": {
   "display_name": "Python 3",
   "language": "python",
   "name": "python3"
  }
 },
 "nbformat": 4,
 "nbformat_minor": 5
}
