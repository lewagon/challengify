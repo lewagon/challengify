{
 "cells": [
  {
   "cell_type": "markdown",
   "id": "a5abc1dc",
   "metadata": {},
   "source": [
    "# Challenge sample"
   ]
  },
  {
   "cell_type": "markdown",
   "id": "88f20a20",
   "metadata": {},
   "source": [
    "## How is markdown affected by delimiters ?"
   ]
  },
  {
   "cell_type": "markdown",
   "id": "dcd9cb50",
   "metadata": {},
   "source": [
    "this is unaffected\n",
    "\n",
    "$CHALLENGIFY_BEGIN\n",
    "\n",
    "👉 this markdown content will be replaced\n",
    "\n",
    "$CHALLENGIFY_END\n",
    "\n",
    "this is unaffected\n"
   ]
  },
  {
   "cell_type": "markdown",
   "id": "1984202c",
   "metadata": {},
   "source": [
    "## How is code affected by delimiters ?"
   ]
  },
  {
   "cell_type": "code",
   "execution_count": 0,
   "id": "f6076269",
   "metadata": {},
   "outputs": [],
   "source": [
    "this_code_will_be_unaffected = True\n",
    "\n",
    "# $CHALLENGIFY_BEGIN\n",
    "this_code_will_be_replaced = True\n",
    "# $CHALLENGIFY_END"
   ]
  },
  {
   "cell_type": "code",
   "execution_count": 0,
   "id": "eb64a262",
   "metadata": {},
   "outputs": [],
   "source": [
    "import pandas as pd\n",
    "\n",
    "def function():\n",
    "    \"\"\"\n",
    "    return the answer to life the universe and everything\n",
    "    \"\"\"\n",
    "    # $CHALLENGIFY_BEGIN\n",
    "    return 42\n",
    "    # $CHALLENGIFY_END\n"
   ]
  }
 ],
 "metadata": {
  "kernelspec": {
   "display_name": "Python 3",
   "language": "python",
   "name": "python3"
  }
 },
 "nbformat": 4,
 "nbformat_minor": 5
}
