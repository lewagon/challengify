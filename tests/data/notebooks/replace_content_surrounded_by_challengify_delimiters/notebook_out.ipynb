{
 "cells": [
  {
   "cell_type": "markdown",
   "id": "bb6bd82f",
   "metadata": {},
   "source": [
    "# Challenge sample"
   ]
  },
  {
   "cell_type": "markdown",
   "id": "9c75f795",
   "metadata": {},
   "source": [
    "## How is markdown affected by delimiters ?"
   ]
  },
  {
   "cell_type": "markdown",
   "id": "c0da9d7a",
   "metadata": {},
   "source": [
    "this is unaffected\n",
    "\n",
    "> YOUR ANSWER HERE\n",
    "\n",
    "this is unaffected\n"
   ]
  },
  {
   "cell_type": "markdown",
   "id": "4da6cc74",
   "metadata": {},
   "source": [
    "## How is code affected by delimiters ?"
   ]
  },
  {
   "cell_type": "code",
   "execution_count": 0,
   "id": "d20d06ae",
   "metadata": {},
   "outputs": [],
   "source": [
    "this_code_will_be_unaffected = True\n",
    "\n",
    "pass  # YOUR CODE HERE"
   ]
  },
  {
   "cell_type": "code",
   "execution_count": 0,
   "id": "cad34c84",
   "metadata": {},
   "outputs": [],
   "source": [
    "import pandas as pd\n",
    "\n",
    "def function():\n",
    "    \"\"\"\n",
    "    return the answer to life the universe and everything\n",
    "    \"\"\"\n",
    "    pass  # YOUR CODE HERE\n"
   ]
  }
 ],
 "metadata": {
  "kernelspec": {
   "display_name": "Python 3",
   "language": "python",
   "name": "python3"
  }
 },
 "nbformat": 4,
 "nbformat_minor": 5
}
