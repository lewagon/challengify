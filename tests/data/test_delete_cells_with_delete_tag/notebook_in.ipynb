{
 "cells": [
  {
   "cell_type": "markdown",
   "id": "67606bfa",
   "metadata": {},
   "source": [
    "# How to delete a cell ?\n",
    "\n",
    "👉 Show tags (menu View / Cell Toolbar / Tags)\n",
    "\n",
    "👉 Add one of the supported tags (`delete`, `delete_begin`, `delete_end`)"
   ]
  },
  {
   "cell_type": "markdown",
   "id": "03828c63",
   "metadata": {
    "tags": [
     "delete"
    ]
   },
   "source": [
    "this markdown cell will be deleted"
   ]
  },
  {
   "cell_type": "code",
   "execution_count": 0,
   "id": "4215fe59",
   "metadata": {
    "tags": [
     "delete"
    ]
   },
   "outputs": [],
   "source": [
    "# this code cell will be deleted"
   ]
  },
  {
   "cell_type": "markdown",
   "id": "3e06d406",
   "metadata": {},
   "source": [
    "this cell remains"
   ]
  },
  {
   "cell_type": "code",
   "execution_count": 0,
   "id": "b7ff0183",
   "metadata": {
    "tags": [
     "delete_begin"
    ]
   },
   "outputs": [],
   "source": [
    "# all"
   ]
  },
  {
   "cell_type": "code",
   "execution_count": 0,
   "id": "ead4a46d",
   "metadata": {},
   "outputs": [],
   "source": [
    "# these"
   ]
  },
  {
   "cell_type": "markdown",
   "id": "847b6521",
   "metadata": {},
   "source": [
    "cells will"
   ]
  },
  {
   "cell_type": "markdown",
   "id": "6bb61dd2",
   "metadata": {},
   "source": [
    "be"
   ]
  },
  {
   "cell_type": "code",
   "execution_count": 0,
   "id": "66d436ea",
   "metadata": {
    "tags": [
     "delete_end"
    ]
   },
   "outputs": [],
   "source": [
    "# removed"
   ]
  },
  {
   "cell_type": "code",
   "execution_count": 0,
   "id": "782a3198",
   "metadata": {},
   "outputs": [],
   "source": [
    "# as well as this one"
   ]
  }
 ],
 "metadata": {
  "kernelspec": {
   "display_name": "Python 3",
   "language": "python",
   "name": "python3"
  }
 },
 "nbformat": 4,
 "nbformat_minor": 5
}
