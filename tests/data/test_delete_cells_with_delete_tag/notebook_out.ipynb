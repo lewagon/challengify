{
 "cells": [
  {
   "cell_type": "markdown",
   "id": "a74ed30e",
   "metadata": {},
   "source": [
    "# How to delete a cell ?\n",
    "\n",
    "👉 Show tags (menu View / Cell Toolbar / Tags)\n",
    "\n",
    "👉 Add one of the supported tags (`delete`, `delete_begin`, `delete_end`)"
   ]
  },
  {
   "cell_type": "markdown",
   "id": "7dae62e5",
   "metadata": {},
   "source": [
    "this cell remains"
   ]
  },
  {
   "cell_type": "code",
   "execution_count": 0,
   "id": "782a3198",
   "metadata": {},
   "outputs": [],
   "source": [
    "# as well as this one"
   ]
  }
 ],
 "metadata": {
  "kernelspec": {
   "display_name": "Python 3",
   "language": "python",
   "name": "python3"
  }
 },
 "nbformat": 4,
 "nbformat_minor": 5
}
