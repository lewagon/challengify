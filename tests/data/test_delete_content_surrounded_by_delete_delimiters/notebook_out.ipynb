{
 "cells": [
  {
   "cell_type": "markdown",
   "id": "bb6bd82f",
   "metadata": {},
   "source": [
    "# Challenge sample"
   ]
  },
  {
   "cell_type": "markdown",
   "id": "9c75f795",
   "metadata": {},
   "source": [
    "## How is markdown affected by delimiters ?"
   ]
  },
  {
   "cell_type": "markdown",
   "id": "c0da9d7a",
   "metadata": {},
   "source": [
    "\n",
    "this is unaffected\n",
    "\n",
    "\n",
    "\n",
    "this is unaffected\n",
    "\n",
    "> YOUR ANSWER HERE\n",
    "\n",
    "this is unaffected\n"
   ]
  },
  {
   "cell_type": "markdown",
   "id": "4da6cc74",
   "metadata": {},
   "source": [
    "## How is code affected by delimiters ?"
   ]
  },
  {
   "cell_type": "code",
   "execution_count": 0,
   "id": "d20d06ae",
   "metadata": {},
   "outputs": [],
   "source": [
    "\n",
    "\n",
    "this_code_will_be_unaffected = True\n",
    "\n",
    "pass  # YOUR CODE HERE"
   ]
  },
  {
   "cell_type": "code",
   "execution_count": 0,
   "id": "cad34c84",
   "metadata": {},
   "outputs": [],
   "source": [
    "import pandas as pd\n",
    "\n",
    "\n",
    "\n",
    "def function():\n",
    "    \"\"\"\n",
    "    return the answer to life the universe and everything\n",
    "    \"\"\"\n",
    "    pass  # YOUR CODE HERE\n"
   ]
  },
  {
   "cell_type": "markdown",
   "id": "a74ed30e",
   "metadata": {},
   "source": [
    "# How to delete a cell ?\n",
    "\n",
    "👉 Show tags (menu View / Cell Toolbar / Tags)\n",
    "\n",
    "👉 Add one of the supported tags (`delete`, `delete_begin`, `delete_end`)"
   ]
  },
  {
   "cell_type": "markdown",
   "id": "7dae62e5",
   "metadata": {},
   "source": [
    "this cell remains"
   ]
  },
  {
   "cell_type": "code",
   "execution_count": 0,
   "id": "782a3198",
   "metadata": {},
   "outputs": [],
   "source": [
    "# as well as this one"
   ]
  },
  {
   "cell_type": "markdown",
   "id": "b7c2b554",
   "metadata": {},
   "source": [
    "# How to replace the content of a cell ?\n",
    "\n",
    "\n",
    "👉 Show tags (menu View / Cell Toolbar / Tags)\n",
    "\n",
    "👉 Add the `challengify` tag"
   ]
  },
  {
   "cell_type": "markdown",
   "id": "8aa71206",
   "metadata": {
    "tags": [
     "challengify"
    ]
   },
   "source": [
    "> YOUR ANSWER HERE"
   ]
  },
  {
   "cell_type": "code",
   "execution_count": 0,
   "id": "7e876ed7",
   "metadata": {
    "tags": [
     "challengify"
    ]
   },
   "outputs": [],
   "source": [
    "# YOUR CODE HERE"
   ]
  },
  {
   "cell_type": "code",
   "execution_count": 0,
   "id": "264f90eb",
   "metadata": {
    "tags": [
     "steps"
    ]
   },
   "outputs": [],
   "source": [
    "# import the requests package\n",
    "\n",
    "# YOUR CODE HERE\n",
    "\n",
    "# retrieve a quote from http://www.breakingbadapi.com/api/quotes/1\n",
    "\n",
    "# YOUR CODE HERE\n",
    "\n",
    "# print the quote as \"quote\" (author)\n",
    "\n",
    "# YOUR CODE HERE\n"
   ]
  },
  {
   "cell_type": "markdown",
   "id": "2f2a9644",
   "metadata": {},
   "source": [
    "# How to clear the output of a cell ?\n",
    "\n",
    "By default the output and standard error of all cells is cleared. So no need to do that unless the `keep_output` notebook metadata option is set to True. If this is the case:\n",
    "\n",
    "👉 Show tags (menu View / Cell Toolbar / Tags)\n",
    "\n",
    "👉 Add the `clear_output` tag"
   ]
  },
  {
   "cell_type": "code",
   "execution_count": 0,
   "id": "1606ef13",
   "metadata": {},
   "outputs": [],
   "source": [
    "1 + \"a\"  # this cell will NOT be cleaned"
   ]
  },
  {
   "cell_type": "code",
   "execution_count": 0,
   "id": "00510381",
   "metadata": {
    "tags": [
     "clear_output"
    ]
   },
   "outputs": [],
   "source": [
    "1 + \"a\"  # this cell will be cleaned"
   ]
  },
  {
   "cell_type": "code",
   "execution_count": 0,
   "id": "ecc7c05b",
   "metadata": {},
   "outputs": [],
   "source": [
    "1 + 1  # this cell will NOT be cleaned"
   ]
  },
  {
   "cell_type": "code",
   "execution_count": 0,
   "id": "99690b60",
   "metadata": {
    "tags": [
     "clear_output"
    ]
   },
   "outputs": [],
   "source": [
    "1 + 1  # this cell will be cleaned"
   ]
  }
 ],
 "metadata": {
  "kernelspec": {
   "display_name": "Python 3",
   "language": "python",
   "name": "python3"
  },
  "language_info": {
   "codemirror_mode": {
    "name": "ipython",
    "version": 3
   },
   "file_extension": ".py",
   "mimetype": "text/x-python",
   "name": "python",
   "nbconvert_exporter": "python",
   "pygments_lexer": "ipython3",
   "version": "3.8.6"
  },
  "toc": {
   "base_numbering": 1,
   "nav_menu": {},
   "number_sections": true,
   "sideBar": true,
   "skip_h1_title": false,
   "title_cell": "Table of Contents",
   "title_sidebar": "Contents",
   "toc_cell": false,
   "toc_position": {},
   "toc_section_display": true,
   "toc_window_display": false
  },
  "varInspector": {
   "cols": {
    "lenName": 16,
    "lenType": 16,
    "lenVar": 40
   },
   "kernels_config": {
    "python": {
     "delete_cmd_postfix": "",
     "delete_cmd_prefix": "del ",
     "library": "var_list.py",
     "varRefreshCmd": "print(var_dic_list())"
    },
    "r": {
     "delete_cmd_postfix": ") ",
     "delete_cmd_prefix": "rm(",
     "library": "var_list.r",
     "varRefreshCmd": "cat(var_dic_list()) "
    }
   },
   "types_to_exclude": [
    "module",
    "function",
    "builtin_function_or_method",
    "instance",
    "_Feature"
   ],
   "window_display": false
  }
 },
 "nbformat": 4,
 "nbformat_minor": 5
}
