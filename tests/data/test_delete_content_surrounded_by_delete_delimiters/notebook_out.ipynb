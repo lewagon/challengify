{
 "cells": [
  {
   "cell_type": "markdown",
   "id": "bb6bd82f",
   "metadata": {},
   "source": [
    "# Challenge sample"
   ]
  },
  {
   "cell_type": "markdown",
   "id": "9c75f795",
   "metadata": {},
   "source": [
    "## How is markdown affected by delimiters ?"
   ]
  },
  {
   "cell_type": "markdown",
   "id": "c0da9d7a",
   "metadata": {},
   "source": [
    "this is unaffected\n",
    "\n",
    "\n",
    "\n",
    "this is unaffected"
   ]
  },
  {
   "cell_type": "markdown",
   "id": "4da6cc74",
   "metadata": {},
   "source": [
    "## How is code affected by delimiters ?"
   ]
  },
  {
   "cell_type": "code",
   "execution_count": 0,
   "id": "d20d06ae",
   "metadata": {},
   "outputs": [],
   "source": [
    "\n",
    "\n",
    "this_code_will_be_unaffected = True"
   ]
  },
  {
   "cell_type": "code",
   "execution_count": 0,
   "id": "cad34c84",
   "metadata": {},
   "outputs": [],
   "source": [
    "import pandas as pd\n",
    "\n"
   ]
  }
 ],
 "metadata": {
  "kernelspec": {
   "display_name": "Python 3",
   "language": "python",
   "name": "python3"
  }
 },
 "nbformat": 4,
 "nbformat_minor": 5
}
